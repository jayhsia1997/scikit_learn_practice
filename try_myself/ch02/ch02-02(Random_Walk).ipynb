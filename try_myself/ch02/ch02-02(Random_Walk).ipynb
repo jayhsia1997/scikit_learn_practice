{
 "nbformat": 4,
 "nbformat_minor": 2,
 "metadata": {
  "language_info": {
   "name": "python",
   "codemirror_mode": {
    "name": "ipython",
    "version": 3
   },
   "version": "3.7.0"
  },
  "orig_nbformat": 2,
  "file_extension": ".py",
  "mimetype": "text/x-python",
  "name": "python",
  "npconvert_exporter": "python",
  "pygments_lexer": "ipython3",
  "version": 3
 },
 "cells": [
  {
   "cell_type": "markdown",
   "execution_count": null,
   "metadata": {},
   "outputs": [],
   "source": [
    "# 隨機漫步(Random Walk)"
   ]
  },
  {
   "cell_type": "code",
   "execution_count": 1,
   "metadata": {},
   "outputs": [],
   "source": [
    "%matplotlib inline\n",
    "import matplotlib.pyplot as plt\n",
    "import numpy as np"
   ]
  },
  {
   "cell_type": "code",
   "execution_count": 2,
   "metadata": {},
   "outputs": [
    {
     "data": {
      "text/plain": "array([[ 1, -1,  1, ..., -1, -1, -1],\n       [-1,  1, -1, ...,  1,  1,  1],\n       [-1, -1, -1, ..., -1,  1, -1],\n       ...,\n       [-1,  1,  1, ..., -1, -1,  1],\n       [-1, -1, -1, ...,  1,  1, -1],\n       [ 1,  1, -1, ...,  1,  1, -1]])"
     },
     "execution_count": 2,
     "metadata": {},
     "output_type": "execute_result"
    }
   ],
   "source": [
    "n_person = 2000\n",
    "n_times = 500\n",
    "\n",
    "t = np.arange(n_times)\n",
    "# 建立只包含 -1 和 1 兩總型態元素的陣列來表示輸贏序列\n",
    "# Create an array containing only -1 and 1 type elements to represent the winning and losing sequence\n",
    "steps = 2 * np.random.randint(2, size=(n_person, n_times)) - 1\n",
    "amount = np.cumsum(steps, axis=1)\n",
    "sd_amount = amount ** 2\n",
    "mean_sd_amount = sd_amount.mean(axis=0)\n"
   ]
  },
  {
   "cell_type": "code",
   "execution_count": null,
   "metadata": {},
   "outputs": [],
   "source": []
  }
 ]
}